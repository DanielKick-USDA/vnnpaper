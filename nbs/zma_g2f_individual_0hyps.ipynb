{
 "cells": [
  {
   "cell_type": "raw",
   "metadata": {},
   "source": [
    "---\n",
    "skip_exec: true\n",
    "---"
   ]
  },
  {
   "cell_type": "markdown",
   "metadata": {},
   "source": [
    "# Visible Neural Network"
   ]
  },
  {
   "cell_type": "code",
   "execution_count": null,
   "metadata": {
    "vscode": {
     "languageId": "python"
    }
   },
   "outputs": [],
   "source": [
    "# Data ----\n",
    "from dataG2F.core import get_data\n",
    "from dataG2F.qol  import ensure_dir_path_exists\n",
    "\n",
    "# Data Utilities ----\n",
    "import numpy  as np\n",
    "import pandas as pd\n",
    "\n",
    "# Model Building  ----\n",
    "## General ====\n",
    "import torch\n",
    "from   torch import nn\n",
    "import torch.nn.functional as F\n",
    "from   torch.utils.data import Dataset\n",
    "from   torch.utils.data import DataLoader\n",
    "\n",
    "from vnnpaper.zma import \\\n",
    "    BigDataset,    \\\n",
    "    plDNN_general, \\\n",
    "    mask_parents,  \\\n",
    "    vnn_factory_1, \\\n",
    "    vnn_factory_2, \\\n",
    "    vnn_factory_3\n",
    "\n",
    "# Hyperparameter Tuning ----\n",
    "import os # needed for checking history (saved by lightning) \n",
    "\n",
    "## Logging with Pytorch Lightning ====\n",
    "import lightning.pytorch as pl\n",
    "from   lightning.pytorch.loggers import CSVLogger # used to save the history of each trial (used by ax)\n",
    "\n",
    "## Adaptive Experimentation Platform ====\n",
    "from ax.service.ax_client import AxClient, ObjectiveProperties\n",
    "# from ax.utils.notebook.plotting import init_notebook_plotting, render"
   ]
  },
  {
   "cell_type": "code",
   "execution_count": null,
   "metadata": {
    "vscode": {
     "languageId": "python"
    }
   },
   "outputs": [],
   "source": [
    "torch.set_float32_matmul_precision('medium')"
   ]
  },
  {
   "cell_type": "code",
   "execution_count": null,
   "metadata": {
    "vscode": {
     "languageId": "python"
    }
   },
   "outputs": [],
   "source": [
    "# init_notebook_plotting()"
   ]
  },
  {
   "cell_type": "markdown",
   "metadata": {},
   "source": [
    "## Setup"
   ]
  },
  {
   "cell_type": "code",
   "execution_count": null,
   "metadata": {
    "vscode": {
     "languageId": "python"
    }
   },
   "outputs": [],
   "source": [
    "cache_path = '../nbs_artifacts/zma_g2f_individual_0hyps/'"
   ]
  },
  {
   "cell_type": "code",
   "execution_count": null,
   "metadata": {
    "vscode": {
     "languageId": "python"
    }
   },
   "outputs": [],
   "source": [
    "## Settings ====\n",
    "run_hyps = 64 \n",
    "run_hyps_force = False # should we run more trials even if the target number has been reached?\n",
    "max_hyps = 64\n",
    "\n",
    "# Run settings: \n",
    "params_run = {\n",
    "    'batch_size': 256,\n",
    "    'max_epoch' : 256,    \n",
    "}\n",
    "\n",
    "# data settings\n",
    "params_data = {\n",
    "    # 'y_var': 'Yield_Mg_ha',\n",
    "    'y_var': [\n",
    "        # Description quoted from competition data readme\n",
    "        'Yield_Mg_ha',     # Grain yield in Mg per ha at 15.5% grain moisture, using plot area without alley (Mg/ha).\n",
    "        'Pollen_DAP_days', # Number of days after planting that 50% of plants in the plot began shedding pollen.\n",
    "        'Silk_DAP_days',   # Number of days after planting that 50% of plants in the plot had visible silks.\n",
    "        'Plant_Height_cm', # Measured as the distance between the base of a plant and the ligule of the flag leaf (centimeter).\n",
    "        'Ear_Height_cm',   # Measured as the distance from the ground to the primary ear bearing node (centimeter).\n",
    "        'Grain_Moisture',  # Water content in grain at harvest (percentage).\n",
    "        'Twt_kg_m3'        # Shelled grain test weight (kg/m3), a measure of grain density.\n",
    "    ],\n",
    "\n",
    "    'y_resid': 'None', # None, Env, Geno\n",
    "    'y_resid_strat': 'None', # None, naive_mean, filter_mean, ...\n",
    "    'holdout_parents': [\n",
    "        ## 2022 ====\n",
    "        'LH244',\n",
    "        ## 2021 ====\n",
    "        'PHZ51',\n",
    "        # 'PHP02',\n",
    "        # 'PHK76',\n",
    "        ## 2019 ====\n",
    "        # 'PHT69',\n",
    "        'LH195',\n",
    "        ## 2017 ====\n",
    "        # 'PHW52',\n",
    "        # 'PHN82',\n",
    "        ## 2016 ====\n",
    "        # 'DK3IIH6',\n",
    "        ## 2015 ====\n",
    "        # 'PHB47',\n",
    "        # 'LH82',\n",
    "        ## 2014 ====\n",
    "        # 'LH198',\n",
    "        # 'LH185',\n",
    "        # 'PB80',\n",
    "        # 'CG102',\n",
    " ],    \n",
    "}"
   ]
  },
  {
   "cell_type": "code",
   "execution_count": null,
   "metadata": {
    "vscode": {
     "languageId": "python"
    }
   },
   "outputs": [],
   "source": [
    "params_list = [    \n",
    "    ## Output Size ====\n",
    "    {\n",
    "    'name': 'default_out_nodes_inp',\n",
    "    'type': 'range',\n",
    "    'bounds': [1, 8],\n",
    "    'value_type': 'int',\n",
    "    'log_scale': False\n",
    "    },\n",
    "    {\n",
    "    'name': 'default_out_nodes_edge',\n",
    "    'type': 'range',\n",
    "    'bounds': [1, 32],\n",
    "    'value_type': 'int',\n",
    "    'log_scale': False\n",
    "    },\n",
    "    {\n",
    "    'name': 'default_out_nodes_out',\n",
    "    'type': 'fixed',\n",
    "    'value': 1, #len(params_data['y_var']) if type(params_data['y_var']) == list else 1,\n",
    "    'value_type': 'int',\n",
    "    'log_scale': False\n",
    "    },\n",
    "    ## Dropout ====\n",
    "    {\n",
    "    'name': 'default_drop_nodes_inp',\n",
    "    'type': 'range',\n",
    "    'bounds': [0.01, 0.99],\n",
    "    'value_type': 'float',\n",
    "    'log_scale': False\n",
    "    },\n",
    "    {\n",
    "    'name': 'default_drop_nodes_edge',\n",
    "    'type': 'range',\n",
    "    'bounds': [0.01, 0.99],\n",
    "    'value_type': 'float',\n",
    "    'log_scale': False\n",
    "    },\n",
    "    {\n",
    "    'name': 'default_drop_nodes_out',\n",
    "    'type': 'range',\n",
    "    'bounds': [0.01, 0.99],\n",
    "    'value_type': 'float',\n",
    "    'log_scale': False,\n",
    "    'sort_values':True\n",
    "    },\n",
    "    ## Node Repeats ====\n",
    "    {\n",
    "    'name': 'default_reps_nodes_inp',\n",
    "    'type': 'choice',\n",
    "    'values': [1, 2, 3],\n",
    "    'value_type': 'int',\n",
    "    'is_ordered': True,\n",
    "    'sort_values':True\n",
    "    },\n",
    "    {\n",
    "    'name': 'default_reps_nodes_edge',\n",
    "    'type': 'choice',\n",
    "    'values': [1, 2, 3],\n",
    "    'value_type': 'int',\n",
    "    'is_ordered': True,\n",
    "    'sort_values':True\n",
    "    },\n",
    "    {\n",
    "    'name': 'default_reps_nodes_out',\n",
    "    'type': 'choice',\n",
    "    'values': [1, 2, 3],\n",
    "    'value_type': 'int',\n",
    "    'is_ordered': True,\n",
    "    'sort_values':True\n",
    "    },\n",
    "    ## Node Output Size Scaling ====\n",
    "    {\n",
    "    'name': 'default_decay_rate',\n",
    "    'type': 'choice',\n",
    "    'values': [0+(0.1*i) for i in range(10)]+[1.+(1*i) for i in range(11)],\n",
    "    'value_type': 'float',\n",
    "    'is_ordered': True,\n",
    "    'sort_values':True\n",
    "    }\n",
    "    ]"
   ]
  },
  {
   "cell_type": "code",
   "execution_count": null,
   "metadata": {
    "vscode": {
     "languageId": "python"
    }
   },
   "outputs": [],
   "source": [
    "lightning_log_dir = cache_path+\"lightning\"\n",
    "exp_name = [e for e in cache_path.split('/') if e != ''][-1]"
   ]
  },
  {
   "cell_type": "code",
   "execution_count": null,
   "metadata": {
    "vscode": {
     "languageId": "python"
    }
   },
   "outputs": [],
   "source": [
    "# parameterization is needed for setup. These values will be overwritten by Ax if tuning is occuring. \n",
    "# in this file I define params later. I've included it here to gurantee that we can merge other params dicts into it.\n",
    "params = {\n",
    "'default_out_nodes_inp'  : 1,\n",
    "'default_out_nodes_edge' : 1,\n",
    "'default_out_nodes_out'  : 1, #len(params_data['y_var']) if type(params_data['y_var']) == list else 1,\n",
    "\n",
    "'default_drop_nodes_inp' : 0.0,\n",
    "'default_drop_nodes_edge': 0.0,\n",
    "'default_drop_nodes_out' : 0.0,\n",
    "\n",
    "'default_reps_nodes_inp' : 1,\n",
    "'default_reps_nodes_edge': 1,\n",
    "'default_reps_nodes_out' : 1,\n",
    "\n",
    "'default_decay_rate'     : 1\n",
    "}\n",
    "\n",
    "default_out_nodes_inp  = params['default_out_nodes_inp' ]\n",
    "default_out_nodes_edge = params['default_out_nodes_edge'] \n",
    "default_out_nodes_out  = params['default_out_nodes_out' ]\n",
    "\n",
    "default_drop_nodes_inp = params['default_drop_nodes_inp' ] \n",
    "default_drop_nodes_edge= params['default_drop_nodes_edge'] \n",
    "default_drop_nodes_out = params['default_drop_nodes_out' ] \n",
    "\n",
    "default_reps_nodes_inp = params['default_reps_nodes_inp' ]\n",
    "default_reps_nodes_edge= params['default_reps_nodes_edge']\n",
    "default_reps_nodes_out = params['default_reps_nodes_out' ]\n",
    "\n",
    "default_decay_rate = params['default_decay_rate' ]"
   ]
  },
  {
   "cell_type": "code",
   "execution_count": null,
   "metadata": {
    "vscode": {
     "languageId": "python"
    }
   },
   "outputs": [],
   "source": [
    "batch_size = params_run['batch_size']\n",
    "max_epoch  = params_run['max_epoch']\n",
    "\n",
    "y_var = params_data['y_var']"
   ]
  },
  {
   "cell_type": "code",
   "execution_count": null,
   "metadata": {
    "vscode": {
     "languageId": "python"
    }
   },
   "outputs": [],
   "source": [
    "save_prefix = [e for e in cache_path.split('/') if e != ''][-1]\n",
    "\n",
    "if 'None' != params_data['y_resid_strat']:\n",
    "    save_prefix = save_prefix+'_'+params_data['y_resid_strat']\n",
    "\n",
    "ensure_dir_path_exists(dir_path = cache_path)"
   ]
  },
  {
   "cell_type": "code",
   "execution_count": null,
   "metadata": {
    "vscode": {
     "languageId": "python"
    }
   },
   "outputs": [],
   "source": [
    "use_gpu_num = 0\n",
    "\n",
    "device = \"cuda\" if torch.cuda.is_available() else \"cpu\"\n",
    "if use_gpu_num in [0, 1]: \n",
    "    torch.cuda.set_device(use_gpu_num)\n",
    "print(f\"Using {device} device\")"
   ]
  },
  {
   "cell_type": "markdown",
   "metadata": {},
   "source": [
    "## Load Data"
   ]
  },
  {
   "cell_type": "code",
   "execution_count": null,
   "metadata": {
    "vscode": {
     "languageId": "python"
    }
   },
   "outputs": [],
   "source": [
    "# Data Prep ----\n",
    "obs_geno_lookup          = get_data('obs_geno_lookup')\n",
    "phno                     = get_data('phno')\n",
    "ACGT_gene_slice_list     = get_data('KEGG_slices')\n",
    "parsed_kegg_gene_entries = get_data('KEGG_entries')"
   ]
  },
  {
   "cell_type": "code",
   "execution_count": null,
   "metadata": {
    "vscode": {
     "languageId": "python"
    }
   },
   "outputs": [],
   "source": [
    "# make sure that the given y variable is there\n",
    "# single column version\n",
    "# phno = phno.loc[(phno[y_var].notna()), ].copy()\n",
    "# phno = phno.reset_index().drop(columns='index')\n",
    "\n",
    "# multicolumn\n",
    "# mask based on the y variables\n",
    "na_array = phno[y_var].isna().to_numpy().sum(axis=1)\n",
    "mask_no_na = list(0 == na_array)\n",
    "\n",
    "phno = phno.loc[mask_no_na, ].copy()\n",
    "phno = phno.reset_index().drop(columns='index')"
   ]
  },
  {
   "cell_type": "code",
   "execution_count": null,
   "metadata": {
    "vscode": {
     "languageId": "python"
    }
   },
   "outputs": [],
   "source": [
    "# update obs_geno_lookup\n",
    "\n",
    "tmp = phno.reset_index().rename(columns={'index': 'Phno_Idx_new'}).loc[:, ['Phno_Idx_new', 'Geno_Idx']]\n",
    "tmp = pd.merge(tmp,\n",
    "          tmp.drop(columns='Phno_Idx_new').drop_duplicates().reset_index().rename(columns={'index': 'Phno_Idx_Orig_new'}))\n",
    "tmp = tmp.sort_values('Phno_Idx_new').reset_index(drop=True)\n",
    "\n",
    "obs_geno_lookup = tmp.to_numpy()"
   ]
  },
  {
   "cell_type": "code",
   "execution_count": null,
   "metadata": {
    "vscode": {
     "languageId": "python"
    }
   },
   "outputs": [],
   "source": [
    "# make holdout sets\n",
    "holdout_parents = params_data['holdout_parents']\n",
    "\n",
    "# create a mask for parent genotype\n",
    "mask = mask_parents(df= phno, col_name= 'Hybrid', holdout_parents= holdout_parents)\n",
    "\n",
    "train_mask = mask.sum(axis=1) == 0\n",
    "test_mask  = mask.sum(axis=1) > 0\n",
    "\n",
    "train_idx = train_mask.loc[train_mask].index\n",
    "test_idx  = test_mask.loc[test_mask].index"
   ]
  },
  {
   "cell_type": "code",
   "execution_count": null,
   "metadata": {
    "vscode": {
     "languageId": "python"
    }
   },
   "outputs": [],
   "source": [
    "# convert y to residual if needed\n",
    "\n",
    "if params_data['y_resid'] == 'None':\n",
    "    pass\n",
    "else:\n",
    "    if params_data['y_resid_strat'] == 'naive_mean':\n",
    "        # use only data in the training set (especially since testers will be more likely to be found across envs)\n",
    "        # get enviromental means, subtract from observed value\n",
    "        tmp = phno.loc[train_idx, ]\n",
    "        env_mean = tmp.groupby(['Env_Idx']\n",
    "                     ).agg(Env_Mean = (y_var, 'mean')\n",
    "                     ).reset_index()\n",
    "        tmp = phno.merge(env_mean)\n",
    "        tmp.loc[:, y_var] = tmp.loc[:, y_var] - tmp.loc[:, 'Env_Mean']\n",
    "        phno = tmp.drop(columns='Env_Mean')\n",
    "\n",
    "    if params_data['y_resid_strat'] == 'filter_mean':\n",
    "        # for adjusting to environment we could use _all_ observations but ideally we will use the same set of genotypes across all observations\n",
    "        def minimum_hybrids_for_env(tmp = phno.loc[:, ['Env', 'Year', 'Hybrid']],\n",
    "                                    year = 2014):\n",
    "            # Within each year what hybrids are most common?\n",
    "            tmp = tmp.loc[(tmp.Year == year), ].groupby(['Env', 'Hybrid']).count().reset_index().sort_values('Year')\n",
    "\n",
    "            all_envs = set(tmp.Env)\n",
    "            # if we filter on the number of sites a hybrid is planted at, what is the largest number of sites we can ask for before we lose a location?\n",
    "            # site counts for sets which contain all envs\n",
    "            i = max([i for i in list(set(tmp.Year)) if len(set(tmp.loc[(tmp.Year >= i), 'Env'])) == len(all_envs)])\n",
    "\n",
    "            before = len(set(tmp.loc[:, 'Hybrid']))\n",
    "            after  = len(set(tmp.loc[(tmp.Year >= i), 'Hybrid']))\n",
    "            print(f'Reducing {year} hybrids from {before} to {after} ({round(100*after/before)}%).')\n",
    "            tmp = tmp.loc[(tmp.Year >= i), ['Env', 'Hybrid']].reset_index(drop=True)\n",
    "            return tmp\n",
    "\n",
    "\n",
    "        tmp = phno.loc[:, ['Env', 'Year', 'Hybrid']]\n",
    "        filter_hybrids = [minimum_hybrids_for_env(tmp = phno.loc[:, ['Env', 'Year', 'Hybrid']], year = i) \n",
    "                          for i in list(set(phno.Year)) ]\n",
    "        env_mean = pd.concat(filter_hybrids).merge(phno, how = 'left')\n",
    "\n",
    "        env_mean = env_mean.groupby(['Env_Idx']\n",
    "                          ).agg(Env_Mean = (y_var, 'mean')\n",
    "                          ).reset_index()\n",
    "\n",
    "        tmp = phno.merge(env_mean)\n",
    "        tmp.loc[:, y_var] = tmp.loc[:, y_var] - tmp.loc[:, 'Env_Mean']\n",
    "        phno = tmp.drop(columns='Env_Mean')\n",
    "        "
   ]
  },
  {
   "cell_type": "code",
   "execution_count": null,
   "metadata": {
    "vscode": {
     "languageId": "python"
    }
   },
   "outputs": [],
   "source": [
    "# center and y value data\n",
    "assert 0 == phno.loc[:, y_var].isna().sum().sum() # second sum is for multiple y_vars\n",
    "\n",
    "y = phno.loc[:, y_var].to_numpy() # added to make multiple ys work\n",
    "# use train index to prevent information leakage\n",
    "y_c = y[train_idx].mean(axis=0)\n",
    "y_s = y[train_idx].std(axis=0)\n",
    "\n",
    "y = (y - y_c)/y_s"
   ]
  },
  {
   "cell_type": "markdown",
   "metadata": {},
   "source": [
    "## Fit Using VNNHelper"
   ]
  },
  {
   "cell_type": "code",
   "execution_count": null,
   "metadata": {
    "vscode": {
     "languageId": "python"
    }
   },
   "outputs": [],
   "source": [
    "myvnn, new_lookup_dict = vnn_factory_1(parsed_kegg_gene_entries = parsed_kegg_gene_entries, params = params, ACGT_gene_slice_list = ACGT_gene_slice_list)"
   ]
  },
  {
   "cell_type": "markdown",
   "metadata": {},
   "source": [
    "### Calculate nodes membership in each matrix and positions within each"
   ]
  },
  {
   "cell_type": "code",
   "execution_count": null,
   "metadata": {
    "vscode": {
     "languageId": "python"
    }
   },
   "outputs": [],
   "source": [
    "### Creating Structured Matrices for Layers\n",
    "M_list = vnn_factory_2(vnn_helper = myvnn, node_to_inp_num_dict = new_lookup_dict)"
   ]
  },
  {
   "cell_type": "markdown",
   "metadata": {},
   "source": [
    "### Setup Dataloader using `M_list`"
   ]
  },
  {
   "cell_type": "code",
   "execution_count": null,
   "metadata": {
    "vscode": {
     "languageId": "python"
    }
   },
   "outputs": [],
   "source": [
    "lookup_dict = new_lookup_dict\n",
    "\n",
    "vals = get_data('KEGG_slices')\n",
    "vals = [torch.from_numpy(e).to(torch.float) for e in vals]\n",
    "# restrict to the tensors that will be used\n",
    "vals = torch.concat([vals[lookup_dict[i]].reshape(4926, -1) \n",
    "                     for i in M_list[0].row_inp\n",
    "                    #  for i in dd[0]['inp'] # matches\n",
    "                     ], axis = 1)\n",
    "\n",
    "vals = vals.to('cuda')"
   ]
  },
  {
   "cell_type": "code",
   "execution_count": null,
   "metadata": {
    "vscode": {
     "languageId": "python"
    }
   },
   "outputs": [],
   "source": [
    "training_dataloader = DataLoader(BigDataset(\n",
    "    lookups_are_filtered = False,\n",
    "    lookup_obs  = torch.from_numpy(np.array(train_idx)), #X.get('val:train',       ops_string='   asarray from_numpy      '),\n",
    "    lookup_geno = torch.from_numpy(obs_geno_lookup),\n",
    "    y =           torch.from_numpy(y).to(torch.float32)[:, None].squeeze(),\n",
    "    G =           vals,\n",
    "    G_type = 'raw',\n",
    "    send_batch_to_gpu = 'cuda:0'\n",
    "    ),\n",
    "    batch_size = batch_size,\n",
    "    shuffle = True \n",
    ")\n",
    "\n",
    "validation_dataloader = DataLoader(BigDataset(\n",
    "    lookups_are_filtered = False,\n",
    "    lookup_obs  = torch.from_numpy(np.array(test_idx)), #X.get('val:train',       ops_string='   asarray from_numpy      '),\n",
    "    lookup_geno = torch.from_numpy(obs_geno_lookup),\n",
    "    y =           torch.from_numpy(y).to(torch.float32)[:, None].squeeze(),\n",
    "    G =           vals,\n",
    "    G_type = 'raw',\n",
    "    send_batch_to_gpu = 'cuda:0'\n",
    "    ),\n",
    "    batch_size = batch_size,\n",
    "    shuffle = False \n",
    ")"
   ]
  },
  {
   "cell_type": "markdown",
   "metadata": {},
   "source": [
    "## Structured Layer"
   ]
  },
  {
   "cell_type": "code",
   "execution_count": null,
   "metadata": {
    "vscode": {
     "languageId": "python"
    }
   },
   "outputs": [],
   "source": [
    "class NeuralNetwork(nn.Module):\n",
    "    def __init__(self, layer_list):\n",
    "        super(NeuralNetwork, self).__init__()\n",
    "        self.layer_list = nn.ModuleList(layer_list)\n",
    " \n",
    "    def forward(self, x):\n",
    "        for l in self.layer_list:\n",
    "            x = l(x)\n",
    "        return x"
   ]
  },
  {
   "cell_type": "markdown",
   "metadata": {},
   "source": [
    "## Tiny Test Study"
   ]
  },
  {
   "cell_type": "code",
   "execution_count": null,
   "metadata": {
    "vscode": {
     "languageId": "python"
    }
   },
   "outputs": [],
   "source": [
    "def evaluate(parameterization):\n",
    "    myvnn, new_lookup_dict = vnn_factory_1(parsed_kegg_gene_entries = parsed_kegg_gene_entries, params = parameterization, ACGT_gene_slice_list = ACGT_gene_slice_list)\n",
    "    M_list = vnn_factory_2(vnn_helper = myvnn, node_to_inp_num_dict = new_lookup_dict)\n",
    "    layer_list =  vnn_factory_3(M_list = M_list)\n",
    "    model = NeuralNetwork(layer_list = layer_list)\n",
    "    \n",
    "    VNN = plDNN_general(model)  \n",
    "    optimizer = VNN.configure_optimizers()\n",
    "    logger = CSVLogger(lightning_log_dir, name=exp_name)\n",
    "    logger.log_hyperparams(params={\n",
    "        'params': parameterization\n",
    "    })\n",
    "\n",
    "    trainer = pl.Trainer(max_epochs=max_epoch, logger=logger)\n",
    "    trainer.fit(model=VNN, train_dataloaders=training_dataloader, val_dataloaders=validation_dataloader)\n",
    "\n",
    "\n",
    "    # if we were optimizing number of training epochs this would be an effective loss to use.\n",
    "    # trainer.callback_metrics['train_loss']\n",
    "    # float(trainer.callback_metrics['train_loss'])\n",
    "\n",
    "    # To potentially _overtrain_ models and still let the selction be based on their best possible performance,\n",
    "    # I'll use the lowest average error in an epoch\n",
    "    log_path = lightning_log_dir+'/'+exp_name\n",
    "    fls = os.listdir(log_path)\n",
    "    nums = [int(e.split('_')[-1]) for e in fls] \n",
    "\n",
    "    M = pd.read_csv(log_path+f\"/version_{max(nums)}/metrics.csv\")\n",
    "    M = M.loc[:, ['epoch', 'train_loss']].dropna()\n",
    "\n",
    "    M = M.groupby('epoch').agg(\n",
    "        train_loss = ('train_loss', 'mean'),\n",
    "        train_loss_sd = ('train_loss', 'std'),\n",
    "        ).reset_index()\n",
    "\n",
    "    train_metric = M.train_loss.min()\n",
    "    print(train_metric)\n",
    "    return {\"train_loss\": (train_metric, 0.0)}\n"
   ]
  },
  {
   "cell_type": "code",
   "execution_count": null,
   "metadata": {
    "vscode": {
     "languageId": "python"
    }
   },
   "outputs": [],
   "source": []
  },
  {
   "cell_type": "code",
   "execution_count": null,
   "metadata": {
    "vscode": {
     "languageId": "python"
    }
   },
   "outputs": [],
   "source": []
  },
  {
   "cell_type": "code",
   "execution_count": null,
   "metadata": {
    "vscode": {
     "languageId": "python"
    }
   },
   "outputs": [],
   "source": []
  },
  {
   "cell_type": "code",
   "execution_count": null,
   "metadata": {
    "vscode": {
     "languageId": "python"
    }
   },
   "outputs": [],
   "source": []
  },
  {
   "cell_type": "code",
   "execution_count": null,
   "metadata": {
    "vscode": {
     "languageId": "python"
    }
   },
   "outputs": [],
   "source": []
  },
  {
   "cell_type": "code",
   "execution_count": null,
   "metadata": {
    "vscode": {
     "languageId": "python"
    }
   },
   "outputs": [],
   "source": [
    "def _prep_dls(\n",
    "        y_var,\n",
    "        train_idx,\n",
    "        obs_geno_lookup,\n",
    "        vals,\n",
    "        batch_size,\n",
    "        params_data):\n",
    "\n",
    "    phno                     = get_data('phno')\n",
    "\n",
    "    # multicolumn\n",
    "    # mask based on the y variables\n",
    "    # na_array = phno[y_var].isna().to_numpy().sum(axis=1)\n",
    "    na_array = phno[ [y_var] if type(y_var) == list else y_var ].isna().to_numpy()\n",
    "    if len(na_array.shape) == 2:\n",
    "        na_array = na_array.sum(axis=1)\n",
    "    mask_no_na = list(0 == na_array)\n",
    "\n",
    "    phno = phno.loc[mask_no_na, ].copy()\n",
    "    phno = phno.reset_index().drop(columns='index')\n",
    "\n",
    "\n",
    "    # update obs_geno_lookup\n",
    "    tmp = phno.reset_index().rename(columns={'index': 'Phno_Idx_new'}).loc[:, ['Phno_Idx_new', 'Geno_Idx']]\n",
    "    tmp = pd.merge(tmp,\n",
    "                tmp.drop(columns='Phno_Idx_new').drop_duplicates().reset_index().rename(columns={'index': 'Phno_Idx_Orig_new'}))\n",
    "    tmp = tmp.sort_values('Phno_Idx_new').reset_index(drop=True)\n",
    "    obs_geno_lookup = tmp.to_numpy()\n",
    "\n",
    "\n",
    "    # make holdout sets\n",
    "    holdout_parents = params_data['holdout_parents']\n",
    "\n",
    "    # create a mask for parent genotype\n",
    "    mask = mask_parents(df= phno, col_name= 'Hybrid', holdout_parents= holdout_parents)\n",
    "\n",
    "    train_mask = mask.sum(axis=1) == 0\n",
    "    test_mask  = mask.sum(axis=1) > 0\n",
    "\n",
    "    train_idx = train_mask.loc[train_mask].index\n",
    "    test_idx  = test_mask.loc[test_mask].index\n",
    "\n",
    "\n",
    "\n",
    "\n",
    "    # center and y value data\n",
    "    assert 0 == phno.loc[:, y_var].isna().sum().sum() # second sum is for multiple y_vars\n",
    "\n",
    "    y = phno.loc[:, y_var].to_numpy() # added to make multiple ys work\n",
    "    # use train index to prevent information leakage\n",
    "    y_c = y[train_idx].mean(axis=0)\n",
    "    y_s = y[train_idx].std(axis=0)\n",
    "\n",
    "    y = (y - y_c)/y_s\n",
    "\n",
    "\n",
    "\n",
    "    training_dataloader = DataLoader(BigDataset(\n",
    "        lookups_are_filtered = False,\n",
    "        lookup_obs  = torch.from_numpy(np.array(train_idx)), #X.get('val:train',       ops_string='   asarray from_numpy      '),\n",
    "        lookup_geno = torch.from_numpy(obs_geno_lookup),\n",
    "        y =           torch.from_numpy(y).to(torch.float32)[:, None],\n",
    "        G =           vals,\n",
    "        G_type = 'raw',\n",
    "        send_batch_to_gpu = 'cuda:0'\n",
    "        ),\n",
    "        batch_size = batch_size,\n",
    "        shuffle = True \n",
    "    )\n",
    "\n",
    "    validation_dataloader = DataLoader(BigDataset(\n",
    "        lookups_are_filtered = False,\n",
    "        lookup_obs  = torch.from_numpy(np.array(test_idx)), #X.get('val:train',       ops_string='   asarray from_numpy      '),\n",
    "        lookup_geno = torch.from_numpy(obs_geno_lookup),\n",
    "        y =           torch.from_numpy(y).to(torch.float32)[:, None],\n",
    "        G =           vals,\n",
    "        G_type = 'raw',\n",
    "        send_batch_to_gpu = 'cuda:0'\n",
    "        ),\n",
    "        batch_size = batch_size,\n",
    "        shuffle = False \n",
    "    )\n",
    "\n",
    "    return training_dataloader, validation_dataloader"
   ]
  },
  {
   "cell_type": "code",
   "execution_count": null,
   "metadata": {
    "vscode": {
     "languageId": "python"
    }
   },
   "outputs": [],
   "source": [
    "# training_dataloader, validation_dataloader = _prep_dls(\n",
    "#             y_var = y_var,\n",
    "#             train_idx = train_idx,\n",
    "#             obs_geno_lookup = obs_geno_lookup,\n",
    "#             vals = vals,\n",
    "#             batch_size = batch_size,\n",
    "#             params_data = params_data)"
   ]
  },
  {
   "cell_type": "code",
   "execution_count": null,
   "metadata": {
    "vscode": {
     "languageId": "python"
    }
   },
   "outputs": [],
   "source": []
  },
  {
   "cell_type": "code",
   "execution_count": null,
   "metadata": {
    "vscode": {
     "languageId": "python"
    }
   },
   "outputs": [],
   "source": [
    "y_vars = y_var.copy()"
   ]
  },
  {
   "cell_type": "code",
   "execution_count": null,
   "metadata": {
    "vscode": {
     "languageId": "python"
    }
   },
   "outputs": [],
   "source": [
    "for y_var in y_vars:\n",
    "    # y_var = ith_y_var\n",
    "    # update exp_name\n",
    "    exp_name = [e for e in cache_path.split('/') if e != ''][-1]\n",
    "    exp_name += '__'+y_var\n",
    "\n",
    "    print(''.join(['-' for i in range(80)]))\n",
    "    print(f'experiment: {exp_name}')\n",
    "    print(''.join(['-' for i in range(80)]))\n",
    "    print('\\n')\n",
    "\n",
    "    training_dataloader, validation_dataloader = _prep_dls(\n",
    "            y_var = y_var,\n",
    "            train_idx = train_idx,\n",
    "            obs_geno_lookup = obs_geno_lookup,\n",
    "            vals = vals,\n",
    "            batch_size = batch_size,\n",
    "            params_data = params_data)\n",
    "\n",
    "    ## Generated variables ====\n",
    "    json_path = f\"./{lightning_log_dir}/{exp_name}.json\"\n",
    "\n",
    "    loaded_json = False\n",
    "    if os.path.exists(json_path): \n",
    "        ax_client = (AxClient.load_from_json_file(filepath = json_path))\n",
    "        loaded_json = True\n",
    "\n",
    "    else:\n",
    "        ax_client = AxClient()\n",
    "        ax_client.create_experiment(\n",
    "            name=exp_name,\n",
    "            parameters=params_list,\n",
    "            objectives={\"train_loss\": ObjectiveProperties(minimize=True)}\n",
    "        )\n",
    "\n",
    "    run_trials_bool = True\n",
    "    if run_hyps_force == False:\n",
    "        if loaded_json: \n",
    "            # check if we've reached the max number of hyperparamters combinations to test\n",
    "            if max_hyps <= (ax_client.generation_strategy.trials_as_df.index.max()+1):\n",
    "                run_trials_bool = False\n",
    "\n",
    "    if run_trials_bool:\n",
    "        # run the trials\n",
    "        for i in range(run_hyps):\n",
    "            parameterization, trial_index = ax_client.get_next_trial()\n",
    "            # Local evaluation here can be replaced with deployment to external system.\n",
    "            ax_client.complete_trial(trial_index=trial_index, raw_data=evaluate(parameterization))\n",
    "\n",
    "        ax_client.save_to_json_file(filepath = json_path)"
   ]
  }
 ],
 "metadata": {
  "kernelspec": {
   "display_name": "python3",
   "language": "python",
   "name": "python3"
  }
 },
 "nbformat": 4,
 "nbformat_minor": 2
}
